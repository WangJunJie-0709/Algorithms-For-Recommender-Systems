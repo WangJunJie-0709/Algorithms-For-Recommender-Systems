{
 "cells": [
  {
   "cell_type": "code",
   "execution_count": 3,
   "id": "fb7643f4-e897-4daf-a0cf-f410ed027364",
   "metadata": {},
   "outputs": [
    {
     "name": "stderr",
     "output_type": "stream",
     "text": [
      "C:\\Users\\ASUS\\anaconda3\\lib\\site-packages\\numpy\\_distributor_init.py:30: UserWarning: loaded more than 1 DLL from .libs:\n",
      "C:\\Users\\ASUS\\anaconda3\\lib\\site-packages\\numpy\\.libs\\libopenblas.PYQHXLVVQ7VESDPUVUADXEVJOBGHJPAY.gfortran-win_amd64.dll\n",
      "C:\\Users\\ASUS\\anaconda3\\lib\\site-packages\\numpy\\.libs\\libopenblas.WCDJNK7YVMPZQ2ME2ZZHJJRJ3JIKNDB7.gfortran-win_amd64.dll\n",
      "  warnings.warn(\"loaded more than 1 DLL from .libs:\"\n"
     ]
    }
   ],
   "source": [
    "import numpy as np\n",
    "import pandas as pd\n",
    "from sklearn.preprocessing import OneHotEncoder"
   ]
  },
  {
   "cell_type": "code",
   "execution_count": 4,
   "id": "9731231e-da29-4555-9301-afa669434f78",
   "metadata": {},
   "outputs": [],
   "source": [
    "def load_data(path):\n",
    "    Data = pd.read_csv(path, nrows=100)\n",
    "    for column in Data.columns:\n",
    "        Data[column] = Data[column].fillna(method='pad')\n",
    "        Data[column] = Data[column].fillna(method='bfill')\n",
    "    return Data\n",
    "Data = load_data(\"G:\\github项目\\Recomendation_system\\Data\\criteo_sample\\criteo_sampled_data.csv\")"
   ]
  },
  {
   "cell_type": "code",
   "execution_count": 5,
   "id": "56b3075e-a0c3-4e1a-9e30-cbe89e003802",
   "metadata": {},
   "outputs": [
    {
     "data": {
      "text/plain": [
       "Index(['label', 'I1', 'I2', 'I3', 'I4', 'I5', 'I6', 'I7', 'I8', 'I9', 'I10',\n",
       "       'I11', 'I12', 'I13', 'C1', 'C2', 'C3', 'C4', 'C5', 'C6', 'C7', 'C8',\n",
       "       'C9', 'C10', 'C11', 'C12', 'C13', 'C14', 'C15', 'C16', 'C17', 'C18',\n",
       "       'C19', 'C20', 'C21', 'C22', 'C23', 'C24', 'C25', 'C26'],\n",
       "      dtype='object')"
      ]
     },
     "execution_count": 5,
     "metadata": {},
     "output_type": "execute_result"
    }
   ],
   "source": [
    "Data.columns"
   ]
  },
  {
   "cell_type": "code",
   "execution_count": 6,
   "id": "8a32017f-d35c-4dcf-b096-4626d8058506",
   "metadata": {},
   "outputs": [],
   "source": [
    "def onehotEncoder(Data):\n",
    "    features = Data.columns\n",
    "    \n",
    "    # 对类别特征进行one-hot编码\n",
    "    for i in range(14, len(features)):\n",
    "        oh_feature = pd.get_dummies(Data[features[i]], prefix=1)\n",
    "        Data.drop([features[i]], axis=1, inplace=True)\n",
    "        Data = pd.concat([Data, oh_feature], axis=1)\n",
    "    \n",
    "    # 分出标签和特征\n",
    "    X = Data.iloc[:, 1:]\n",
    "    Y = Data.iloc[:, 0]\n",
    "    Y = Y.replace(0, -1)\n",
    "    return X, Y\n",
    "X, Y = onehotEncoder(Data)"
   ]
  },
  {
   "cell_type": "code",
   "execution_count": 13,
   "id": "99acaec8-c515-4565-9450-522a33ff7304",
   "metadata": {},
   "outputs": [],
   "source": [
    "class FM(object):\n",
    "    \n",
    "    def __init__(self, x, y):\n",
    "        self.x = np.mat(x)\n",
    "        self.y = np.array(y)\n",
    "        self.feaNum = self.x.shape[1]\n",
    "        self.sampleNum = len(self.y)\n",
    "    \n",
    "    def initialize_vector(self, k):\n",
    "        \"\"\"初始化参数权重, k为隐向量的长度，含义为隐向量表示特征的多少\"\"\"\n",
    "        \n",
    "        w = np.ones((self.feaNum, 1))\n",
    "        \n",
    "        # 生成n×k的服从0-0.02的正态分布的隐向量矩阵\n",
    "        v = np.mat(np.zeros((self.feaNum, k)))\n",
    "        for i in range(self.feaNum):\n",
    "            for j in range(k):\n",
    "                v[i, j] = np.random.normal(0, 0.2)\n",
    "        \n",
    "        return w, v\n",
    "    \n",
    "    def sigmoid(self, x):\n",
    "        '''定义sigmoid函数'''\n",
    "        return 1 / (1 + np.exp(-x))\n",
    "    \n",
    "    def loss_fn(self, predict, classes):\n",
    "        '''定义损失函数'''\n",
    "        m = np.shape(predict)[0]\n",
    "        cost = []\n",
    "        error = 0.0\n",
    "        for i in range(m):\n",
    "            error += -np.log(self.sigmoid(classes[i] * predict[i]))\n",
    "            cost.append(error)\n",
    "        return error\n",
    "        \n",
    "    def SGD(self, k, max_iteration, lr):\n",
    "        '''\n",
    "        k: 隐向量的维度\n",
    "        max_iteration: 最大迭代次数\n",
    "        lr: 学习率\n",
    "        '''\n",
    "        m, n = np.shape(self.x)\n",
    "        w0 = 0\n",
    "        w, v = self.initialize_vector(k)\n",
    "        \n",
    "        for it in range(max_iteration):\n",
    "            for i in range(m):\n",
    "                # 计算特征交叉项\n",
    "                v_1 = self.x[i] * v # 1×k\n",
    "                v_2 = np.multiply(self.x[i], self.x[i]) * np.multiply(v, v) # 1×k\n",
    "                \n",
    "                inte = 0.5 * np.sum(np.multiply(v_1, v_1) - v_2) \n",
    "                p = w0 + self.x[i] * w + inte  # 得到预测值\n",
    "\n",
    "                loss = self.sigmoid(self.y[i] * p[0]) - 1\n",
    "\n",
    "                w0 = w0 - lr * loss * self.y[i]  # 更新w0\n",
    "                for j in range(n):\n",
    "                    if self.x[i, j] != 0:\n",
    "                        w[i, 0] = w[i, 0] - lr * loss * self.y[i] * self.x[i, j] # 更新w1\n",
    "                        for t in range(k):\n",
    "                            # 更新特征隐向量权重\n",
    "                            v[j, t] *= lr * loss * self.y[i] * (self.x[i, j] * np.sum(np.multiply(v[:, t].T, self.x[i])) - v[j, t] * self.x[i, j] * self.x[i, j])\n",
    "            if (it + 1) % 10 == 0:\n",
    "                print('第{}次迭代, 误差为:{}'.format(it+1,\n",
    "                                           self.loss_fn(self.predict(w0, w, v), self.y)))\n",
    "        return w0, w, v\n",
    "        \n",
    "    def predict(self, w0, w, v):\n",
    "        m = np.shape(self.x)[0]\n",
    "        res = []\n",
    "        for i in range(m):\n",
    "            \n",
    "            v_1 = self.x[i] * v\n",
    "            v_2 = np.multiply(self.x[i], self.x[i]) * np.multiply(v, v)\n",
    "            inte = 0.5 * np.sum(np.multiply(v_1, v_1) - v_2)\n",
    "            p = w0 + self.x[i] * w + inte\n",
    "\n",
    "            pre = self.sigmoid(p[0, 0])\n",
    "\n",
    "            res.append(pre)\n",
    "        return res"
   ]
  },
  {
   "cell_type": "code",
   "execution_count": 14,
   "id": "3194cab4-92b7-4123-8ec7-9b01eff26ea1",
   "metadata": {},
   "outputs": [],
   "source": [
    "a = FM(X, Y)"
   ]
  },
  {
   "cell_type": "code",
   "execution_count": null,
   "id": "4811134c-b90e-4561-875d-3a1909cda341",
   "metadata": {},
   "outputs": [
    {
     "name": "stderr",
     "output_type": "stream",
     "text": [
      "<ipython-input-13-052d947b01d7>:24: RuntimeWarning: overflow encountered in exp\n",
      "  return 1 / (1 + np.exp(-x))\n"
     ]
    },
    {
     "name": "stdout",
     "output_type": "stream",
     "text": [
      "第10次迭代, 误差为:93.90143112436978\n",
      "第20次迭代, 误差为:86.8399853760753\n",
      "第30次迭代, 误差为:83.49918276597725\n",
      "第40次迭代, 误差为:82.39861127389402\n",
      "第50次迭代, 误差为:80.53826777170113\n",
      "第60次迭代, 误差为:79.67792425082631\n",
      "第70次迭代, 误差为:80.43756092934964\n",
      "第80次迭代, 误差为:79.81758072995149\n",
      "第90次迭代, 误差为:78.57735171603494\n",
      "第100次迭代, 误差为:77.33545353820847\n",
      "第110次迭代, 误差为:76.7170081951601\n",
      "第120次迭代, 误差为:76.7170081951601\n",
      "第130次迭代, 误差为:77.09689368820183\n",
      "第140次迭代, 误差为:77.09689368820183\n",
      "第150次迭代, 误差为:77.09689368820183\n",
      "第160次迭代, 误差为:77.09689368820183\n",
      "第170次迭代, 误差为:77.09689368820183\n",
      "第180次迭代, 误差为:77.09689368820183\n",
      "第190次迭代, 误差为:77.09689368820183\n",
      "第200次迭代, 误差为:77.09717536948814\n",
      "第210次迭代, 误差为:77.67405034128919\n",
      "第220次迭代, 误差为:77.23655016732701\n",
      "第230次迭代, 误差为:76.61643566037095\n",
      "第240次迭代, 误差为:76.61643566036874\n",
      "第250次迭代, 误差为:75.99632115341046\n",
      "第260次迭代, 误差为:75.99632115341046\n",
      "第270次迭代, 误差为:75.99632115341046\n",
      "第280次迭代, 误差为:75.99632115341046\n",
      "第290次迭代, 误差为:75.99632115341046\n",
      "第300次迭代, 误差为:75.99632115341046\n",
      "第310次迭代, 误差为:75.99632115341046\n",
      "第320次迭代, 误差为:75.99632115341046\n",
      "第330次迭代, 误差为:75.37621168341144\n",
      "第340次迭代, 误差为:75.37620664645219\n",
      "第350次迭代, 误差为:75.37620664645219\n",
      "第360次迭代, 误差为:74.75609213949392\n",
      "第370次迭代, 误差为:74.75609213949392\n",
      "第380次迭代, 误差为:75.13597763253564\n",
      "第390次迭代, 误差为:75.13597763253564\n",
      "第400次迭代, 误差为:75.13597763253564\n",
      "第410次迭代, 误差为:75.13597763253564\n",
      "第420次迭代, 误差为:75.13597763253564\n",
      "第430次迭代, 误差为:75.13597763253564\n",
      "第440次迭代, 误差为:75.13597763253564\n",
      "第450次迭代, 误差为:75.13597763253564\n",
      "第460次迭代, 误差为:75.13597763253564\n",
      "第470次迭代, 误差为:75.13597763253564\n",
      "第480次迭代, 误差为:75.13597763253564\n",
      "第490次迭代, 误差为:75.13597763253564\n",
      "第500次迭代, 误差为:75.13597763253564\n",
      "第510次迭代, 误差为:75.13597763253564\n",
      "第520次迭代, 误差为:75.13597763253564\n",
      "第530次迭代, 误差为:75.13597763253564\n",
      "第540次迭代, 误差为:75.13597763253564\n"
     ]
    }
   ],
   "source": [
    "a.SGD(10, 1000, 0.0001)"
   ]
  },
  {
   "cell_type": "code",
   "execution_count": null,
   "id": "cf8e5e8a-d094-4982-ab8a-a0434bde6943",
   "metadata": {},
   "outputs": [],
   "source": []
  }
 ],
 "metadata": {
  "kernelspec": {
   "display_name": "Python 3",
   "language": "python",
   "name": "python3"
  },
  "language_info": {
   "codemirror_mode": {
    "name": "ipython",
    "version": 3
   },
   "file_extension": ".py",
   "mimetype": "text/x-python",
   "name": "python",
   "nbconvert_exporter": "python",
   "pygments_lexer": "ipython3",
   "version": "3.8.8"
  }
 },
 "nbformat": 4,
 "nbformat_minor": 5
}
